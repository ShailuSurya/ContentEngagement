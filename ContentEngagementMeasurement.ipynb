{
 "cells": [
  {
   "cell_type": "markdown",
   "metadata": {},
   "source": [
    "# Conversions based on Top Publications\n",
    "- Which is the most famous publication for conversions\n",
    "- Average number of conversions for specific period of time\n",
    "- Based on that we can predict the future conversions"
   ]
  },
  {
   "cell_type": "code",
   "execution_count": 7,
   "metadata": {},
   "outputs": [],
   "source": [
    "# Extraction and Exploration\n",
    "import pandas as pd  # for dataframes\n",
    "import numpy as np\n",
    "%matplotlib inline\n",
    "from matplotlib import pyplot\n",
    "import matplotlib.pyplot as plt # for plotting graphs\n",
    "from plotly import graph_objs as go\n",
    "import seaborn as sns # for plotting graphs\n",
    "# Predictive Analytics\n",
    "from sklearn.ensemble import RandomForestClassifier\n",
    "from sklearn.model_selection import train_test_split\n",
    "from sklearn.metrics import confusion_matrix\n",
    "from sklearn.model_selection import cross_val_score\n",
    "from sklearn.metrics import classification_report, confusion_matrix \n"
   ]
  },
  {
   "cell_type": "code",
   "execution_count": 43,
   "metadata": {},
   "outputs": [
    {
     "data": {
      "text/html": [
       "<div>\n",
       "<style scoped>\n",
       "    .dataframe tbody tr th:only-of-type {\n",
       "        vertical-align: middle;\n",
       "    }\n",
       "\n",
       "    .dataframe tbody tr th {\n",
       "        vertical-align: top;\n",
       "    }\n",
       "\n",
       "    .dataframe thead th {\n",
       "        text-align: right;\n",
       "    }\n",
       "</style>\n",
       "<table border=\"1\" class=\"dataframe\">\n",
       "  <thead>\n",
       "    <tr style=\"text-align: right;\">\n",
       "      <th></th>\n",
       "      <th>State</th>\n",
       "      <th>StateCode</th>\n",
       "      <th>Source</th>\n",
       "      <th>SourceCode</th>\n",
       "      <th>new_user</th>\n",
       "      <th>Number_of_visits</th>\n",
       "      <th>likes</th>\n",
       "      <th>shares</th>\n",
       "      <th>Comments</th>\n",
       "      <th>age</th>\n",
       "      <th>total_pages_visited</th>\n",
       "      <th>session_duration(min)</th>\n",
       "      <th>conversion</th>\n",
       "      <th>Date</th>\n",
       "      <th>TotalUsers</th>\n",
       "      <th>NewUsers</th>\n",
       "      <th>TotalConversions</th>\n",
       "    </tr>\n",
       "  </thead>\n",
       "  <tbody>\n",
       "    <tr>\n",
       "      <th>0</th>\n",
       "      <td>Washington</td>\n",
       "      <td>1</td>\n",
       "      <td>LinkedIn</td>\n",
       "      <td>1</td>\n",
       "      <td>1</td>\n",
       "      <td>1</td>\n",
       "      <td>1</td>\n",
       "      <td>0</td>\n",
       "      <td>1</td>\n",
       "      <td>23</td>\n",
       "      <td>2</td>\n",
       "      <td>5</td>\n",
       "      <td>1</td>\n",
       "      <td>1/2/2018</td>\n",
       "      <td>34</td>\n",
       "      <td>20</td>\n",
       "      <td>10</td>\n",
       "    </tr>\n",
       "    <tr>\n",
       "      <th>1</th>\n",
       "      <td>Washington</td>\n",
       "      <td>1</td>\n",
       "      <td>LinkedIn</td>\n",
       "      <td>1</td>\n",
       "      <td>0</td>\n",
       "      <td>2</td>\n",
       "      <td>1</td>\n",
       "      <td>1</td>\n",
       "      <td>0</td>\n",
       "      <td>23</td>\n",
       "      <td>4</td>\n",
       "      <td>2</td>\n",
       "      <td>0</td>\n",
       "      <td>1/3/2018</td>\n",
       "      <td>15</td>\n",
       "      <td>9</td>\n",
       "      <td>6</td>\n",
       "    </tr>\n",
       "    <tr>\n",
       "      <th>2</th>\n",
       "      <td>Washington</td>\n",
       "      <td>1</td>\n",
       "      <td>Chicago Business Journal</td>\n",
       "      <td>2</td>\n",
       "      <td>0</td>\n",
       "      <td>3</td>\n",
       "      <td>1</td>\n",
       "      <td>1</td>\n",
       "      <td>1</td>\n",
       "      <td>32</td>\n",
       "      <td>1</td>\n",
       "      <td>5</td>\n",
       "      <td>1</td>\n",
       "      <td>1/5/2018</td>\n",
       "      <td>18</td>\n",
       "      <td>10</td>\n",
       "      <td>7</td>\n",
       "    </tr>\n",
       "    <tr>\n",
       "      <th>3</th>\n",
       "      <td>Washington</td>\n",
       "      <td>1</td>\n",
       "      <td>LinkedIn</td>\n",
       "      <td>1</td>\n",
       "      <td>1</td>\n",
       "      <td>1</td>\n",
       "      <td>1</td>\n",
       "      <td>0</td>\n",
       "      <td>0</td>\n",
       "      <td>26</td>\n",
       "      <td>1</td>\n",
       "      <td>10</td>\n",
       "      <td>1</td>\n",
       "      <td>1/10/2018</td>\n",
       "      <td>36</td>\n",
       "      <td>17</td>\n",
       "      <td>11</td>\n",
       "    </tr>\n",
       "    <tr>\n",
       "      <th>4</th>\n",
       "      <td>California</td>\n",
       "      <td>2</td>\n",
       "      <td>LinkedIn</td>\n",
       "      <td>1</td>\n",
       "      <td>1</td>\n",
       "      <td>2</td>\n",
       "      <td>1</td>\n",
       "      <td>0</td>\n",
       "      <td>0</td>\n",
       "      <td>27</td>\n",
       "      <td>1</td>\n",
       "      <td>2</td>\n",
       "      <td>0</td>\n",
       "      <td>1/15/2018</td>\n",
       "      <td>10</td>\n",
       "      <td>7</td>\n",
       "      <td>6</td>\n",
       "    </tr>\n",
       "  </tbody>\n",
       "</table>\n",
       "</div>"
      ],
      "text/plain": [
       "        State  StateCode                    Source  SourceCode  new_user  \\\n",
       "0  Washington          1                  LinkedIn           1         1   \n",
       "1  Washington          1                  LinkedIn           1         0   \n",
       "2  Washington          1  Chicago Business Journal           2         0   \n",
       "3  Washington          1                  LinkedIn           1         1   \n",
       "4  California          2                  LinkedIn           1         1   \n",
       "\n",
       "   Number_of_visits  likes  shares  Comments  age  total_pages_visited  \\\n",
       "0                 1      1       0         1   23                    2   \n",
       "1                 2      1       1         0   23                    4   \n",
       "2                 3      1       1         1   32                    1   \n",
       "3                 1      1       0         0   26                    1   \n",
       "4                 2      1       0         0   27                    1   \n",
       "\n",
       "   session_duration(min)  conversion       Date  TotalUsers  NewUsers  \\\n",
       "0                      5           1   1/2/2018          34        20   \n",
       "1                      2           0   1/3/2018          15         9   \n",
       "2                      5           1   1/5/2018          18        10   \n",
       "3                     10           1  1/10/2018          36        17   \n",
       "4                      2           0  1/15/2018          10         7   \n",
       "\n",
       "   TotalConversions  \n",
       "0                10  \n",
       "1                 6  \n",
       "2                 7  \n",
       "3                11  \n",
       "4                 6  "
      ]
     },
     "execution_count": 43,
     "metadata": {},
     "output_type": "execute_result"
    }
   ],
   "source": [
    "# Reading the Data set \n",
    "data=pd.read_csv(r'C:\\Users\\saila\\Documents\\college work\\6080 Integrated Experiential Learning\\XN-Project\\data\\XN_Project_Final_Dataset.csv')\n",
    "data.head(5)"
   ]
  },
  {
   "cell_type": "code",
   "execution_count": 9,
   "metadata": {},
   "outputs": [
    {
     "data": {
      "text/plain": [
       "False"
      ]
     },
     "execution_count": 9,
     "metadata": {},
     "output_type": "execute_result"
    }
   ],
   "source": [
    "# Any Missing Values\n",
    "data.isnull().values.any()"
   ]
  },
  {
   "cell_type": "code",
   "execution_count": 10,
   "metadata": {},
   "outputs": [
    {
     "name": "stdout",
     "output_type": "stream",
     "text": [
      "shape of dataset is (213, 17)\n"
     ]
    }
   ],
   "source": [
    "print(\"shape of dataset is\", data.shape)"
   ]
  },
  {
   "cell_type": "code",
   "execution_count": 11,
   "metadata": {},
   "outputs": [
    {
     "data": {
      "text/plain": [
       "State                    object\n",
       "StateCode                 int64\n",
       "Source                   object\n",
       "SourceCode                int64\n",
       "new_user                  int64\n",
       "Number_of_visits          int64\n",
       "likes                     int64\n",
       "shares                    int64\n",
       "Comments                  int64\n",
       "age                       int64\n",
       "total_pages_visited       int64\n",
       "session_duration(min)     int64\n",
       "conversion                int64\n",
       "Date                     object\n",
       "TotalUsers                int64\n",
       "NewUsers                  int64\n",
       "TotalConversions          int64\n",
       "dtype: object"
      ]
     },
     "execution_count": 11,
     "metadata": {},
     "output_type": "execute_result"
    }
   ],
   "source": [
    "data.describe()\n",
    "data.dtypes"
   ]
  },
  {
   "cell_type": "code",
   "execution_count": 12,
   "metadata": {},
   "outputs": [
    {
     "data": {
      "text/plain": [
       "[None,\n",
       " None,\n",
       " None,\n",
       " None,\n",
       " None,\n",
       " None,\n",
       " None,\n",
       " None,\n",
       " None,\n",
       " None,\n",
       " None,\n",
       " None,\n",
       " None,\n",
       " None,\n",
       " None,\n",
       " None,\n",
       " None,\n",
       " None]"
      ]
     },
     "execution_count": 12,
     "metadata": {},
     "output_type": "execute_result"
    },
    {
     "data": {
      "image/png": "[encoded data removed]",
      "text/plain": [
       "<Figure size 432x288 with 1 Axes>"
      ]
     },
     "metadata": {
      "needs_background": "light"
     },
     "output_type": "display_data"
    }
   ],
   "source": [
    "# Top Publishers that has high conversions\n",
    "conv_data=data.groupby('Source')['conversion'].sum().plot(kind='bar')\n",
    "plt.ylabel('Source')\n",
    "plt.title(\"high conversion sources\")\n",
    "plt.setp(conv_data.get_xticklabels(), rotation=30, horizontalalignment='right')\n"
   ]
  },
  {
   "cell_type": "markdown",
   "metadata": {},
   "source": [
    "# To understand what factors influence the conversion of customers mostly\n",
    "- I used Random Forest Classification algorithm to predict the conversion rate \n",
    "- I used shares, likes, website name, total pasges visited, session duration, new user\n",
    "- I converted the factor variavles into categorical type first\n",
    "- After I trained the model using 70% of data and tested the model using 30% of data"
   ]
  },
  {
   "cell_type": "code",
   "execution_count": 13,
   "metadata": {},
   "outputs": [
    {
     "data": {
      "text/plain": [
       "State                      object\n",
       "StateCode                   int64\n",
       "Source                   category\n",
       "SourceCode               category\n",
       "new_user                 category\n",
       "Number_of_visits            int64\n",
       "likes                    category\n",
       "shares                   category\n",
       "Comments                 category\n",
       "age                         int64\n",
       "total_pages_visited         int64\n",
       "session_duration(min)       int64\n",
       "conversion                  int64\n",
       "Date                       object\n",
       "TotalUsers                  int64\n",
       "NewUsers                    int64\n",
       "TotalConversions            int64\n",
       "dtype: object"
      ]
     },
     "execution_count": 13,
     "metadata": {},
     "output_type": "execute_result"
    }
   ],
   "source": [
    "# data['conversion'] = pd.Categorical(data.conversion)\n",
    "data['likes'] = pd.Categorical(data.likes)\n",
    "data['shares'] = pd.Categorical(data.shares)\n",
    "data['new_user'] = pd.Categorical(data.new_user)\n",
    "data['Source'] = pd.Categorical(data.Source)\n",
    "data['SourceCode'] = pd.Categorical(data.SourceCode)\n",
    "data['Comments']=pd.Categorical(data.Comments)\n",
    "data.dtypes"
   ]
  },
  {
   "cell_type": "code",
   "execution_count": 14,
   "metadata": {},
   "outputs": [],
   "source": [
    "X=data[['StateCode','SourceCode','likes','shares','Comments','Number_of_visits','new_user','age','total_pages_visited','session_duration(min)']] # inputs\n",
    "y=data['conversion'] # output\n",
    "\n",
    "# Split dataset into training set and test set\n",
    "# implementing train-test-split \n",
    "X_train, X_test, y_train, y_test = train_test_split(X, y, test_size=0.33, random_state=66)\n"
   ]
  },
  {
   "cell_type": "code",
   "execution_count": 15,
   "metadata": {},
   "outputs": [
    {
     "data": {
      "text/plain": [
       "(71, 10)"
      ]
     },
     "execution_count": 15,
     "metadata": {},
     "output_type": "execute_result"
    }
   ],
   "source": [
    "# KNowing the dimensions\n",
    "X_train.shape\n",
    "y_train.shape\n",
    "X_test.shape"
   ]
  },
  {
   "cell_type": "code",
   "execution_count": 16,
   "metadata": {},
   "outputs": [
    {
     "name": "stdout",
     "output_type": "stream",
     "text": [
      "RandomForestClassifier(bootstrap=True, class_weight=None, criterion='gini',\n",
      "            max_depth=None, max_features='auto', max_leaf_nodes=None,\n",
      "            min_impurity_decrease=0.0, min_impurity_split=None,\n",
      "            min_samples_leaf=1, min_samples_split=2,\n",
      "            min_weight_fraction_leaf=0.0, n_estimators=600, n_jobs=None,\n",
      "            oob_score=False, random_state=None, verbose=0,\n",
      "            warm_start=False)\n"
     ]
    }
   ],
   "source": [
    "\n",
    "# Traing the model\n",
    "rf_model=RandomForestClassifier(n_estimators=600)\n",
    "print(rf_model.fit(X_train,y_train))\n",
    "# testing the model\n",
    "y_predict=rf_model.predict(X_test)\n",
    "# Finidng the Accuracy\n",
    "rf_model.score(X_test,y_test)\n",
    "\n",
    "cm=confusion_matrix(y_test, y_predict)"
   ]
  },
  {
   "cell_type": "code",
   "execution_count": 17,
   "metadata": {},
   "outputs": [
    {
     "data": {
      "image/png": "[encoded data removed]",
      "text/plain": [
       "<Figure size 432x288 with 2 Axes>"
      ]
     },
     "metadata": {
      "needs_background": "light"
     },
     "output_type": "display_data"
    }
   ],
   "source": [
    "import seaborn as sns\n",
    "import matplotlib.pyplot as plt     \n",
    "\n",
    "ax= plt.subplot()\n",
    "sns.heatmap(cm, annot=True, ax = ax); #annot=True to annotate cells\n",
    "\n",
    "# labels, title and ticks\n",
    "ax.set_xlabel('Predicted labels');ax.set_ylabel('True labels'); \n",
    "ax.set_title('Confusion Matrix'); \n",
    "ax.xaxis.set_ticklabels(['No Action', 'Action']); ax.yaxis.set_ticklabels(['No Action', 'Action']);"
   ]
  },
  {
   "cell_type": "code",
   "execution_count": 18,
   "metadata": {},
   "outputs": [
    {
     "data": {
      "text/plain": [
       "0.5492957746478874"
      ]
     },
     "execution_count": 18,
     "metadata": {},
     "output_type": "execute_result"
    }
   ],
   "source": [
    "# Prediction\n",
    "y_predict=rf_model.predict(X_test)\n",
    "rf_model.score(X_test,y_test)\n"
   ]
  },
  {
   "cell_type": "code",
   "execution_count": 19,
   "metadata": {},
   "outputs": [
    {
     "name": "stdout",
     "output_type": "stream",
     "text": [
      "Accuracy: 0.5492957746478874\n"
     ]
    }
   ],
   "source": [
    "# Accuracy\n",
    "from sklearn import metrics\n",
    "print(\"Accuracy:\",metrics.accuracy_score(y_test, y_predict))"
   ]
  },
  {
   "cell_type": "code",
   "execution_count": 44,
   "metadata": {},
   "outputs": [
    {
     "name": "stdout",
     "output_type": "stream",
     "text": [
      "     StateCode SourceCode likes shares Comments  Number_of_visits new_user  \\\n",
      "0            1          1     1      0        1                 1        1   \n",
      "1            1          1     1      1        0                 2        0   \n",
      "2            1          2     1      1        1                 3        0   \n",
      "3            1          1     1      0        0                 1        1   \n",
      "4            2          1     1      0        0                 2        1   \n",
      "5            2          2     1      0        1                 1        0   \n",
      "6            2          3     1      0        0                 2        1   \n",
      "7            2          4     0      1        1                 1        0   \n",
      "8            3          5     0      1        0                 2        1   \n",
      "9            3          5     1      0        1                 1        0   \n",
      "10           3          2     0      1        1                 1        1   \n",
      "11           3          1     0      0        1                 1        0   \n",
      "12           3          4     0      0        0                 1        1   \n",
      "13           4          1     1      0        0                 1        1   \n",
      "14           4          1     1      1        1                 2        0   \n",
      "15           4          2     1      1        1                 3        0   \n",
      "16           4          1     1      0        0                 4        1   \n",
      "17           4          1     1      0        0                 5        1   \n",
      "18           4          2     1      0        0                 2        0   \n",
      "19           5          3     1      0        1                 1        1   \n",
      "20           5          4     0      1        1                 2        0   \n",
      "21           5          5     0      1        1                 3        1   \n",
      "22           5          5     0      0        0                 4        0   \n",
      "23           5          2     0      1        0                 3        1   \n",
      "24           9          1     0      0        1                 2        0   \n",
      "25           9          4     1      0        1                 1        1   \n",
      "26           9          5     1      0        1                 2        1   \n",
      "27           9          5     1      1        0                 3        1   \n",
      "28           9          3     0      1        1                 4        1   \n",
      "29           9          1     0      0        0                 3        0   \n",
      "..         ...        ...   ...    ...      ...               ...      ...   \n",
      "183          6          2     0      1        0                 1        1   \n",
      "184          6          1     0      0        0                 2        0   \n",
      "185          6          1     0      0        0                 1        0   \n",
      "186          7          1     0      1        0                 2        0   \n",
      "187          2          9     1      0        1                 1        1   \n",
      "188          2          9     0      0        1                 2        1   \n",
      "189          3          9     0      0        0                 1        1   \n",
      "190          3          9     1      1        0                 1        1   \n",
      "191          3          9     1      1        1                 3        1   \n",
      "192          3          9     1      0        1                 3        1   \n",
      "193          3          9     0      1        0                 3        0   \n",
      "194          4          9     0      0        0                 3        0   \n",
      "195          4          9     1      1        1                 3        0   \n",
      "196          4          9     1      1        1                 3        0   \n",
      "197          4          9     0      1        1                 3        1   \n",
      "198          4          9     1      0        1                 3        1   \n",
      "199          4          9     0      1        0                 3        1   \n",
      "200          5          9     0      1        0                 1        1   \n",
      "201          5          9     1      0        1                 1        0   \n",
      "202          5          9     1      0        1                 3        0   \n",
      "203          5          9     0      1        1                 3        0   \n",
      "204          5          9     1      1        0                 3        1   \n",
      "205          9          9     1      1        1                 3        1   \n",
      "206          9          9     1      0        1                 3        0   \n",
      "207          9          9     0      1        0                 3        0   \n",
      "208          9          9     0      0        0                 3        1   \n",
      "209          9          9     0      0        0                 3        0   \n",
      "210          9          9     1      1        0                 3        1   \n",
      "211          6          9     0      1        0                 1        0   \n",
      "212          6          9     0      0        0                 1        1   \n",
      "\n",
      "     age  total_pages_visited  session_duration(min)  \n",
      "0     23                    2                      5  \n",
      "1     23                    4                      2  \n",
      "2     32                    1                      5  \n",
      "3     26                    1                     10  \n",
      "4     27                    1                      2  \n",
      "5     28                    6                      3  \n",
      "6     32                    7                      5  \n",
      "7     43                    5                     20  \n",
      "8     21                    5                      4  \n",
      "9     26                    2                      2  \n",
      "10    27                    3                      8  \n",
      "11    37                    3                      2  \n",
      "12    34                    1                     15  \n",
      "13    51                    2                      3  \n",
      "14    48                    7                      4  \n",
      "15    29                    1                      5  \n",
      "16    28                    2                      7  \n",
      "17    39                    3                      2  \n",
      "18    34                    6                      3  \n",
      "19    37                    2                      5  \n",
      "20    39                    3                      6  \n",
      "21    40                    3                      3  \n",
      "22    41                    3                     17  \n",
      "23    42                    1                     14  \n",
      "24    36                    4                      7  \n",
      "25    32                    4                      2  \n",
      "26    34                    1                      9  \n",
      "27    51                    1                     13  \n",
      "28    23                    7                     21  \n",
      "29    27                    3                      2  \n",
      "..   ...                  ...                    ...  \n",
      "183   34                    3                      4  \n",
      "184   34                    6                      2  \n",
      "185   23                    2                      4  \n",
      "186   23                    2                      2  \n",
      "187   27                    4                      8  \n",
      "188   28                    5                      7  \n",
      "189   29                    3                     21  \n",
      "190   34                    5                      2  \n",
      "191   56                    4                      4  \n",
      "192   60                    6                      2  \n",
      "193   24                    6                      4  \n",
      "194   56                    4                     14  \n",
      "195   32                    1                      5  \n",
      "196   45                    2                     15  \n",
      "197   43                    3                      4  \n",
      "198   34                    7                      2  \n",
      "199   45                    1                      4  \n",
      "200   43                    5                      2  \n",
      "201   34                    3                      8  \n",
      "202   34                    1                      7  \n",
      "203   23                    3                      9  \n",
      "204   23                    1                      2  \n",
      "205   27                    2                      4  \n",
      "206   28                    5                      2  \n",
      "207   29                    4                      4  \n",
      "208   56                    3                      2  \n",
      "209   60                    6                      5  \n",
      "210   24                    5                      4  \n",
      "211   56                    2                      4  \n",
      "212   32                    2                      7  \n",
      "\n",
      "[213 rows x 10 columns]\n",
      "[1 0 1 1 0 0 1 0 0 1 1 0 1 0 0 1 0 0 1 1 1 0 0 0 1 1 1 1 1 0 1 1 1 1 1 0 0\n",
      " 1 1 0 0 1 0 1 1 0 1 1 1 0 1 1 1 1 0 0 1 0 1 1 1 1 0 0 0 0 1 1 0 1 1]\n"
     ]
    }
   ],
   "source": [
    "print(X)\n",
    "print(y_predict)"
   ]
  },
  {
   "cell_type": "code",
   "execution_count": 20,
   "metadata": {},
   "outputs": [
    {
     "data": {
      "text/html": [
       "<div>\n",
       "<style scoped>\n",
       "    .dataframe tbody tr th:only-of-type {\n",
       "        vertical-align: middle;\n",
       "    }\n",
       "\n",
       "    .dataframe tbody tr th {\n",
       "        vertical-align: top;\n",
       "    }\n",
       "\n",
       "    .dataframe thead th {\n",
       "        text-align: right;\n",
       "    }\n",
       "</style>\n",
       "<table border=\"1\" class=\"dataframe\">\n",
       "  <thead>\n",
       "    <tr style=\"text-align: right;\">\n",
       "      <th></th>\n",
       "      <th>0</th>\n",
       "    </tr>\n",
       "  </thead>\n",
       "  <tbody>\n",
       "    <tr>\n",
       "      <th>0</th>\n",
       "      <td>0</td>\n",
       "    </tr>\n",
       "    <tr>\n",
       "      <th>1</th>\n",
       "      <td>1</td>\n",
       "    </tr>\n",
       "    <tr>\n",
       "      <th>2</th>\n",
       "      <td>1</td>\n",
       "    </tr>\n",
       "  </tbody>\n",
       "</table>\n",
       "</div>"
      ],
      "text/plain": [
       "   0\n",
       "0  0\n",
       "1  1\n",
       "2  1"
      ]
     },
     "execution_count": 20,
     "metadata": {},
     "output_type": "execute_result"
    }
   ],
   "source": [
    "# I have given random inputs to predict the conversions \n",
    "predictions=pd.DataFrame(rf_model.predict([[2,7,1,1, 0 ,1, 1,23, 3,3,], # 2-California,7- SF Gate \n",
    "                  [7,8, 0,0, 1, 3, 0, 32,1, 1],# 7-Washington, 8-Yellow pages\n",
    "                  [3,4, 0,1, 1, 2, 1, 25,1, 4]]) # 3- Texas ,  4-Forbes\n",
    "            )\n",
    "predictions\n"
   ]
  },
  {
   "cell_type": "code",
   "execution_count": 21,
   "metadata": {},
   "outputs": [
    {
     "name": "stdout",
     "output_type": "stream",
     "text": [
      "=== Confusion Matrix ===\n",
      "[[15 18]\n",
      " [14 24]]\n",
      "=== Classification Report ===\n",
      "              precision    recall  f1-score   support\n",
      "\n",
      "           0       0.52      0.45      0.48        33\n",
      "           1       0.57      0.63      0.60        38\n",
      "\n",
      "   micro avg       0.55      0.55      0.55        71\n",
      "   macro avg       0.54      0.54      0.54        71\n",
      "weighted avg       0.55      0.55      0.55        71\n",
      "\n"
     ]
    }
   ],
   "source": [
    "\n",
    "print(\"=== Confusion Matrix ===\")\n",
    "print(confusion_matrix(y_test, y_predict))\n",
    "\n",
    "print(\"=== Classification Report ===\")\n",
    "print(classification_report(y_test, y_predict))\n",
    "\n"
   ]
  },
  {
   "cell_type": "code",
   "execution_count": 22,
   "metadata": {},
   "outputs": [
    {
     "name": "stdout",
     "output_type": "stream",
     "text": [
      "('StateCode', 0.1622162878666226)\n",
      "('SourceCode', 0.11837669435395017)\n",
      "('likes', 0.035281199338592036)\n",
      "('shares', 0.03390753245886762)\n",
      "('Comments', 0.051302069325208866)\n",
      "('Number_of_visits', 0.08620407284616477)\n",
      "('new_user', 0.03948734301008053)\n",
      "('age', 0.1971000157836969)\n",
      "('total_pages_visited', 0.1285250165557166)\n",
      "('session_duration(min)', 0.14759976846110007)\n"
     ]
    }
   ],
   "source": [
    "# Displaying the most important variable for the model\n",
    "# importances = rf_model.feature_importances\n",
    "for feature in zip(X, rf_model.feature_importances_):\n",
    "    print(feature)\n"
   ]
  },
  {
   "cell_type": "code",
   "execution_count": 23,
   "metadata": {},
   "outputs": [
    {
     "data": {
      "text/html": [
       "<div>\n",
       "<style scoped>\n",
       "    .dataframe tbody tr th:only-of-type {\n",
       "        vertical-align: middle;\n",
       "    }\n",
       "\n",
       "    .dataframe tbody tr th {\n",
       "        vertical-align: top;\n",
       "    }\n",
       "\n",
       "    .dataframe thead th {\n",
       "        text-align: right;\n",
       "    }\n",
       "</style>\n",
       "<table border=\"1\" class=\"dataframe\">\n",
       "  <thead>\n",
       "    <tr style=\"text-align: right;\">\n",
       "      <th></th>\n",
       "      <th>importance</th>\n",
       "    </tr>\n",
       "  </thead>\n",
       "  <tbody>\n",
       "    <tr>\n",
       "      <th>age</th>\n",
       "      <td>0.197100</td>\n",
       "    </tr>\n",
       "    <tr>\n",
       "      <th>StateCode</th>\n",
       "      <td>0.162216</td>\n",
       "    </tr>\n",
       "    <tr>\n",
       "      <th>session_duration(min)</th>\n",
       "      <td>0.147600</td>\n",
       "    </tr>\n",
       "    <tr>\n",
       "      <th>total_pages_visited</th>\n",
       "      <td>0.128525</td>\n",
       "    </tr>\n",
       "    <tr>\n",
       "      <th>SourceCode</th>\n",
       "      <td>0.118377</td>\n",
       "    </tr>\n",
       "    <tr>\n",
       "      <th>Number_of_visits</th>\n",
       "      <td>0.086204</td>\n",
       "    </tr>\n",
       "    <tr>\n",
       "      <th>Comments</th>\n",
       "      <td>0.051302</td>\n",
       "    </tr>\n",
       "    <tr>\n",
       "      <th>new_user</th>\n",
       "      <td>0.039487</td>\n",
       "    </tr>\n",
       "    <tr>\n",
       "      <th>likes</th>\n",
       "      <td>0.035281</td>\n",
       "    </tr>\n",
       "    <tr>\n",
       "      <th>shares</th>\n",
       "      <td>0.033908</td>\n",
       "    </tr>\n",
       "  </tbody>\n",
       "</table>\n",
       "</div>"
      ],
      "text/plain": [
       "                       importance\n",
       "age                      0.197100\n",
       "StateCode                0.162216\n",
       "session_duration(min)    0.147600\n",
       "total_pages_visited      0.128525\n",
       "SourceCode               0.118377\n",
       "Number_of_visits         0.086204\n",
       "Comments                 0.051302\n",
       "new_user                 0.039487\n",
       "likes                    0.035281\n",
       "shares                   0.033908"
      ]
     },
     "execution_count": 23,
     "metadata": {},
     "output_type": "execute_result"
    }
   ],
   "source": [
    "\n",
    "feature_importances = pd.DataFrame(rf_model.feature_importances_,\n",
    "                                index= X_train.columns,\n",
    "                                    columns=['importance']).sort_values('importance',ascending=False)\n",
    "feature_importances"
   ]
  },
  {
   "cell_type": "code",
   "execution_count": 24,
   "metadata": {},
   "outputs": [
    {
     "data": {
      "image/png": "[encoded data removed]",
      "text/plain": [
       "<Figure size 432x288 with 1 Axes>"
      ]
     },
     "metadata": {
      "needs_background": "light"
     },
     "output_type": "display_data"
    }
   ],
   "source": [
    "importances = list(rf_model.feature_importances_)\n",
    "# list of x locations for plotting\n",
    "x_values = list(range(len(importances)))\n",
    "# Make a bar chart\n",
    "plt.bar(x_values, importances, orientation = 'vertical', color = 'b', edgecolor = 'k', linewidth = 1.2)\n",
    "# Tick labels for x axis\n",
    "plt.xticks(x_values, X_train.columns, rotation=60)\n",
    "# Axis labels and title\n",
    "plt.ylabel('Importance'); plt.xlabel('Variable'); plt.title('Variable Importances');"
   ]
  },
  {
   "cell_type": "markdown",
   "metadata": {},
   "source": [
    "# Logistic Regression"
   ]
  },
  {
   "cell_type": "code",
   "execution_count": 25,
   "metadata": {},
   "outputs": [],
   "source": [
    "import pandas as pd\n",
    "from sklearn.model_selection import train_test_split\n",
    "from sklearn.linear_model import LogisticRegression\n",
    "from sklearn import metrics\n",
    "import seaborn as sn"
   ]
  },
  {
   "cell_type": "code",
   "execution_count": 26,
   "metadata": {},
   "outputs": [],
   "source": [
    "X_train,X_test,y_train,y_test = train_test_split(X,y,test_size=0.25,random_state=0)"
   ]
  },
  {
   "cell_type": "code",
   "execution_count": 37,
   "metadata": {},
   "outputs": [
    {
     "name": "stdout",
     "output_type": "stream",
     "text": [
      "LogisticRegression(C=1.0, class_weight=None, dual=False, fit_intercept=True,\n",
      "          intercept_scaling=1, max_iter=100, multi_class='warn',\n",
      "          n_jobs=None, penalty='l2', random_state=None, solver='warn',\n",
      "          tol=0.0001, verbose=0, warm_start=False)\n"
     ]
    },
    {
     "name": "stderr",
     "output_type": "stream",
     "text": [
      "C:\\Users\\saila\\Anaconda3\\New\\envs\\py37\\lib\\site-packages\\sklearn\\linear_model\\logistic.py:433: FutureWarning:\n",
      "\n",
      "Default solver will be changed to 'lbfgs' in 0.22. Specify a solver to silence this warning.\n",
      "\n"
     ]
    }
   ],
   "source": [
    "logistic_regression= LogisticRegression()\n",
    "x=logistic_regression.fit(X_train,y_train)\n",
    "modelpred=logistic_regression.predict(X_test)\n",
    "print(x)"
   ]
  },
  {
   "cell_type": "code",
   "execution_count": 31,
   "metadata": {},
   "outputs": [
    {
     "data": {
      "text/plain": [
       "<matplotlib.axes._subplots.AxesSubplot at 0x26b226954a8>"
      ]
     },
     "execution_count": 31,
     "metadata": {},
     "output_type": "execute_result"
    },
    {
     "data": {
      "image/png": "[encoded data removed]",
      "text/plain": [
       "<Figure size 432x288 with 2 Axes>"
      ]
     },
     "metadata": {
      "needs_background": "light"
     },
     "output_type": "display_data"
    }
   ],
   "source": [
    "confusion_matrix = pd.crosstab(y_test, modelpred, rownames=['Actual'], colnames=['Predicted'])\n",
    "sn.heatmap(confusion_matrix, annot=True)"
   ]
  },
  {
   "cell_type": "code",
   "execution_count": 32,
   "metadata": {},
   "outputs": [
    {
     "name": "stdout",
     "output_type": "stream",
     "text": [
      "Accuracy:  0.46296296296296297\n"
     ]
    }
   ],
   "source": [
    "print('Accuracy: ',metrics.accuracy_score(y_test, y_pred))"
   ]
  },
  {
   "cell_type": "code",
   "execution_count": 42,
   "metadata": {},
   "outputs": [
    {
     "name": "stdout",
     "output_type": "stream",
     "text": [
      "     StateCode SourceCode likes shares Comments  Number_of_visits new_user  \\\n",
      "0            1          1     1      0        1                 1        1   \n",
      "1            1          1     1      1        0                 2        0   \n",
      "2            1          2     1      1        1                 3        0   \n",
      "3            1          1     1      0        0                 1        1   \n",
      "4            2          1     1      0        0                 2        1   \n",
      "5            2          2     1      0        1                 1        0   \n",
      "6            2          3     1      0        0                 2        1   \n",
      "7            2          4     0      1        1                 1        0   \n",
      "8            3          5     0      1        0                 2        1   \n",
      "9            3          5     1      0        1                 1        0   \n",
      "10           3          2     0      1        1                 1        1   \n",
      "11           3          1     0      0        1                 1        0   \n",
      "12           3          4     0      0        0                 1        1   \n",
      "13           4          1     1      0        0                 1        1   \n",
      "14           4          1     1      1        1                 2        0   \n",
      "15           4          2     1      1        1                 3        0   \n",
      "16           4          1     1      0        0                 4        1   \n",
      "17           4          1     1      0        0                 5        1   \n",
      "18           4          2     1      0        0                 2        0   \n",
      "19           5          3     1      0        1                 1        1   \n",
      "20           5          4     0      1        1                 2        0   \n",
      "21           5          5     0      1        1                 3        1   \n",
      "22           5          5     0      0        0                 4        0   \n",
      "23           5          2     0      1        0                 3        1   \n",
      "24           9          1     0      0        1                 2        0   \n",
      "25           9          4     1      0        1                 1        1   \n",
      "26           9          5     1      0        1                 2        1   \n",
      "27           9          5     1      1        0                 3        1   \n",
      "28           9          3     0      1        1                 4        1   \n",
      "29           9          1     0      0        0                 3        0   \n",
      "..         ...        ...   ...    ...      ...               ...      ...   \n",
      "183          6          2     0      1        0                 1        1   \n",
      "184          6          1     0      0        0                 2        0   \n",
      "185          6          1     0      0        0                 1        0   \n",
      "186          7          1     0      1        0                 2        0   \n",
      "187          2          9     1      0        1                 1        1   \n",
      "188          2          9     0      0        1                 2        1   \n",
      "189          3          9     0      0        0                 1        1   \n",
      "190          3          9     1      1        0                 1        1   \n",
      "191          3          9     1      1        1                 3        1   \n",
      "192          3          9     1      0        1                 3        1   \n",
      "193          3          9     0      1        0                 3        0   \n",
      "194          4          9     0      0        0                 3        0   \n",
      "195          4          9     1      1        1                 3        0   \n",
      "196          4          9     1      1        1                 3        0   \n",
      "197          4          9     0      1        1                 3        1   \n",
      "198          4          9     1      0        1                 3        1   \n",
      "199          4          9     0      1        0                 3        1   \n",
      "200          5          9     0      1        0                 1        1   \n",
      "201          5          9     1      0        1                 1        0   \n",
      "202          5          9     1      0        1                 3        0   \n",
      "203          5          9     0      1        1                 3        0   \n",
      "204          5          9     1      1        0                 3        1   \n",
      "205          9          9     1      1        1                 3        1   \n",
      "206          9          9     1      0        1                 3        0   \n",
      "207          9          9     0      1        0                 3        0   \n",
      "208          9          9     0      0        0                 3        1   \n",
      "209          9          9     0      0        0                 3        0   \n",
      "210          9          9     1      1        0                 3        1   \n",
      "211          6          9     0      1        0                 1        0   \n",
      "212          6          9     0      0        0                 1        1   \n",
      "\n",
      "     age  total_pages_visited  session_duration(min)  \n",
      "0     23                    2                      5  \n",
      "1     23                    4                      2  \n",
      "2     32                    1                      5  \n",
      "3     26                    1                     10  \n",
      "4     27                    1                      2  \n",
      "5     28                    6                      3  \n",
      "6     32                    7                      5  \n",
      "7     43                    5                     20  \n",
      "8     21                    5                      4  \n",
      "9     26                    2                      2  \n",
      "10    27                    3                      8  \n",
      "11    37                    3                      2  \n",
      "12    34                    1                     15  \n",
      "13    51                    2                      3  \n",
      "14    48                    7                      4  \n",
      "15    29                    1                      5  \n",
      "16    28                    2                      7  \n",
      "17    39                    3                      2  \n",
      "18    34                    6                      3  \n",
      "19    37                    2                      5  \n",
      "20    39                    3                      6  \n",
      "21    40                    3                      3  \n",
      "22    41                    3                     17  \n",
      "23    42                    1                     14  \n",
      "24    36                    4                      7  \n",
      "25    32                    4                      2  \n",
      "26    34                    1                      9  \n",
      "27    51                    1                     13  \n",
      "28    23                    7                     21  \n",
      "29    27                    3                      2  \n",
      "..   ...                  ...                    ...  \n",
      "183   34                    3                      4  \n",
      "184   34                    6                      2  \n",
      "185   23                    2                      4  \n",
      "186   23                    2                      2  \n",
      "187   27                    4                      8  \n",
      "188   28                    5                      7  \n",
      "189   29                    3                     21  \n",
      "190   34                    5                      2  \n",
      "191   56                    4                      4  \n",
      "192   60                    6                      2  \n",
      "193   24                    6                      4  \n",
      "194   56                    4                     14  \n",
      "195   32                    1                      5  \n",
      "196   45                    2                     15  \n",
      "197   43                    3                      4  \n",
      "198   34                    7                      2  \n",
      "199   45                    1                      4  \n",
      "200   43                    5                      2  \n",
      "201   34                    3                      8  \n",
      "202   34                    1                      7  \n",
      "203   23                    3                      9  \n",
      "204   23                    1                      2  \n",
      "205   27                    2                      4  \n",
      "206   28                    5                      2  \n",
      "207   29                    4                      4  \n",
      "208   56                    3                      2  \n",
      "209   60                    6                      5  \n",
      "210   24                    5                      4  \n",
      "211   56                    2                      4  \n",
      "212   32                    2                      7  \n",
      "\n",
      "[213 rows x 10 columns]\n",
      "[1 1 1 0 1 1 1 0 1 1 0 0 1 0 1 1 0 1 1 1 0 1 1 1 0 0 1 1 1 0 1 1 1 1 0 1 1\n",
      " 0 1 1 1 1 0 0 1 0 0 1 0 1 1 1 0 0]\n"
     ]
    }
   ],
   "source": [
    "print(X)\n",
    "print(modelpred)\n"
   ]
  },
  {
   "cell_type": "code",
   "execution_count": null,
   "metadata": {},
   "outputs": [],
   "source": []
  }
 ],
 "metadata": {
  "kernelspec": {
   "display_name": "py37",
   "language": "python",
   "name": "py37"
  },
  "language_info": {
   "codemirror_mode": {
    "name": "ipython",
    "version": 3
   },
   "file_extension": ".py",
   "mimetype": "text/x-python",
   "name": "python",
   "nbconvert_exporter": "python",
   "pygments_lexer": "ipython3",
   "version": "3.7.1"
  }
 },
 "nbformat": 4,
 "nbformat_minor": 2
}
